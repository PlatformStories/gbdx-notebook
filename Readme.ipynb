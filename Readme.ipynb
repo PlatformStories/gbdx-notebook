{
 "cells": [
  {
   "cell_type": "markdown",
   "metadata": {
    "collapsed": true
   },
   "source": [
    "This is a prototype GBDX development environment. It is based on the [scipy-notebook](https://github.com/jupyter/docker-stacks/tree/master/scipy-notebook) server. \n",
    "The default conda environment is Python 3.x. There is Python 2.x environment python2, which includes\n",
    "includes [gbdxtools](https://github.com/DigitalGlobe/gbdxtools), gdal and protogen. You can open a terminal and install more packages in conda or pip, in either environment."
   ]
  },
  {
   "cell_type": "markdown",
   "metadata": {
    "collapsed": true
   },
   "source": [
    "You can use gbdxtools to download image chips via the IDAHO/IPE engine and run local experiments, as well as launch workflows that process entire strips. Have a look at the [gbdxtools documentation](http://gbdxtools.readthedocs.io/en/latest/) and the notebook examples for guidelines. More notebook examples can be found [here](https://github.com/PlatformStories/notebooks)."
   ]
  },
  {
   "cell_type": "markdown",
   "metadata": {
    "collapsed": true
   },
   "source": [
    "This is not a production environment. Download your notebooks locally for backup so that you don't end up losing them. Avoid downloading large files or running memory-heavy experiments as you will soon run out of space.\n",
    "Keep your notebooks running when you logout if you want variables like task and workflow objects to stay in memory."
   ]
  },
  {
   "cell_type": "markdown",
   "metadata": {
    "collapsed": true
   },
   "source": [
    "Go have some fun on GBDX."
   ]
  }
 ],
 "metadata": {
  "kernelspec": {
   "display_name": "Python 2",
   "language": "python",
   "name": "python2"
  },
  "language_info": {
   "codemirror_mode": {
    "name": "ipython",
    "version": 2
   },
   "file_extension": ".py",
   "mimetype": "text/x-python",
   "name": "python",
   "nbconvert_exporter": "python",
   "pygments_lexer": "ipython2",
   "version": "2.7.11"
  }
 },
 "nbformat": 4,
 "nbformat_minor": 0
}
